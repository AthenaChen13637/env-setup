{
 "cells": [
  {
   "cell_type": "markdown",
   "id": "d3ac8f43-6559-48d8-b33f-444d3e1bfd76",
   "metadata": {},
   "source": [
    "# Hello World in Bash\n",
    "This notebook demonstrates a Bash script using Jupyter's `%%bash` magic."
   ]
  },
  {
   "cell_type": "code",
   "execution_count": 1,
   "id": "8064eb8b-bb6a-4f6f-9e93-9f084dd974f0",
   "metadata": {},
   "outputs": [
    {
     "name": "stdout",
     "output_type": "stream",
     "text": [
      "Hello, World from Bash!\n"
     ]
    }
   ],
   "source": [
    "%%bash\n",
    "echo \"Hello, World from Bash!\""
   ]
  }
 ],
 "metadata": {
  "kernelspec": {
   "display_name": "Python (7030_class_1)",
   "language": "python",
   "name": "7030_class_1"
  },
  "language_info": {
   "codemirror_mode": {
    "name": "ipython",
    "version": 3
   },
   "file_extension": ".py",
   "mimetype": "text/x-python",
   "name": "python",
   "nbconvert_exporter": "python",
   "pygments_lexer": "ipython3",
   "version": "3.10.18"
  }
 },
 "nbformat": 4,
 "nbformat_minor": 5
}
