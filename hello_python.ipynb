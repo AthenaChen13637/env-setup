{
 "cells": [
  {
   "cell_type": "markdown",
   "id": "97ade7e5-1299-474f-a8ec-c5aaa90c6c78",
   "metadata": {},
   "source": [
    "# Hello World in Python\n",
    "This notebook demonstrates a simple \"Hello, World!\" script in Python."
   ]
  },
  {
   "cell_type": "code",
   "execution_count": 1,
   "id": "f10cc792-148a-4f6a-bf69-ca4795a8cb5d",
   "metadata": {},
   "outputs": [
    {
     "name": "stdout",
     "output_type": "stream",
     "text": [
      "Hello, World from Python!\n"
     ]
    }
   ],
   "source": [
    "print(\"Hello, World from Python!\")"
   ]
  }
 ],
 "metadata": {
  "kernelspec": {
   "display_name": "Python (7030_class_1)",
   "language": "python",
   "name": "7030_class_1"
  },
  "language_info": {
   "codemirror_mode": {
    "name": "ipython",
    "version": 3
   },
   "file_extension": ".py",
   "mimetype": "text/x-python",
   "name": "python",
   "nbconvert_exporter": "python",
   "pygments_lexer": "ipython3",
   "version": "3.10.18"
  }
 },
 "nbformat": 4,
 "nbformat_minor": 5
}
