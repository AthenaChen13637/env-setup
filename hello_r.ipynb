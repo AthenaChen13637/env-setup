{
 "cells": [
  {
   "cell_type": "markdown",
   "id": "b1a1c3cf-6b37-47b9-bb3e-cdc4ca5207ef",
   "metadata": {},
   "source": [
    "# Hello World in R\n",
    "This notebook demonstrates a simple \"Hello, World!\" script in R."
   ]
  },
  {
   "cell_type": "code",
   "execution_count": 1,
   "id": "c996eeca-fabe-4e47-ad42-73dcb64e34a6",
   "metadata": {},
   "outputs": [
    {
     "name": "stdout",
     "output_type": "stream",
     "text": [
      "Hello, World from R!\n"
     ]
    }
   ],
   "source": [
    "cat(\"Hello, World from R!\\n\")"
   ]
  }
 ],
 "metadata": {
  "kernelspec": {
   "display_name": "R (7030_class_1)",
   "language": "R",
   "name": "ir_7030_class_1"
  },
  "language_info": {
   "codemirror_mode": "r",
   "file_extension": ".r",
   "mimetype": "text/x-r-source",
   "name": "R",
   "pygments_lexer": "r",
   "version": "4.4.3"
  }
 },
 "nbformat": 4,
 "nbformat_minor": 5
}
